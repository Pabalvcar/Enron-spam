{
 "cells": [
  {
   "cell_type": "markdown",
   "id": "15a3f7b5",
   "metadata": {},
   "source": [
    "### Lectura de los correos"
   ]
  },
  {
   "cell_type": "code",
   "execution_count": 1,
   "id": "d705e175",
   "metadata": {},
   "outputs": [
    {
     "name": "stderr",
     "output_type": "stream",
     "text": [
      "[nltk_data] Downloading package punkt to ....\n",
      "[nltk_data]   Package punkt is already up-to-date!\n"
     ]
    }
   ],
   "source": [
    "from nltk import download\n",
    "download('punkt', download_dir='.')\n",
    "\n",
    "from nltk.corpus.reader.plaintext import PlaintextCorpusReader\n",
    "from nltk.data import load\n",
    "\n",
    "root1 = './Enron-Spam/subconjuntos/train/legítimo'\n",
    "corpus_entrenamiento_legitimo = PlaintextCorpusReader(root1, '.*', encoding='latin-1',\n",
    "                                             sent_tokenizer=load('tokenizers/punkt/spanish.pickle'))\n",
    "\n",
    "root2 = './Enron-Spam/subconjuntos/train/no_deseado'\n",
    "corpus_entrenamiento_no_deseado = PlaintextCorpusReader(root2, '.*', encoding='latin-1',\n",
    "                                             sent_tokenizer=load('tokenizers/punkt/spanish.pickle'))\n",
    "\n",
    "root3 = './Enron-Spam/subconjuntos/val/legítimo'\n",
    "corpus_prueba_legitimo = PlaintextCorpusReader(root3, '.*', encoding='latin-1',\n",
    "                                             sent_tokenizer=load('tokenizers/punkt/spanish.pickle'))\n",
    "\n",
    "root4 = './Enron-Spam/subconjuntos/val/no_deseado'\n",
    "corpus_prueba_no_deseado = PlaintextCorpusReader(root4, '.*', encoding='latin-1',\n",
    "                                             sent_tokenizer=load('tokenizers/punkt/spanish.pickle'))"
   ]
  },
  {
   "cell_type": "markdown",
   "id": "b2dcb434",
   "metadata": {},
   "source": [
    "### Eliminación de ruido y Tokenización"
   ]
  },
  {
   "cell_type": "code",
   "execution_count": 2,
   "id": "18366f76",
   "metadata": {},
   "outputs": [],
   "source": [
    "def strip_html(text):\n",
    "    soup = BeautifulSoup(text, \"html.parser\")\n",
    "    return soup.get_text()\n",
    "\n",
    "def replace_contractions(text):\n",
    "    \"\"\"Replace contractions in string of text\"\"\"\n",
    "    return contractions.fix(text)\n",
    "\n",
    "def denoise_text(text):\n",
    "    text = strip_html(text)\n",
    "    text = replace_contractions(text)\n",
    "    return text"
   ]
  },
  {
   "cell_type": "code",
   "execution_count": 3,
   "id": "73cb703c",
   "metadata": {},
   "outputs": [],
   "source": [
    "import time\n",
    "import nltk\n",
    "from bs4 import BeautifulSoup\n",
    "import contractions # puede que sea necesario hacer un pip install contractions en la consola de comandos de anaconda"
   ]
  },
  {
   "cell_type": "code",
   "execution_count": 4,
   "id": "25c21e7f",
   "metadata": {
    "scrolled": true
   },
   "outputs": [
    {
     "name": "stdout",
     "output_type": "stream",
     "text": [
      "Tiempo primer corpus: 71.92181587219238\n",
      "Tiempo segundo corpus: 111.9568145275116\n",
      "Tiempo total: 183.87863039970398\n"
     ]
    }
   ],
   "source": [
    "#Eliminación de ruido y tokenización de los correos de entrenamiento, y creación de la lista de las clases de cada correo\n",
    "inicio = time.time()\n",
    "\n",
    "tokenized_words_legitimo = []\n",
    "tokenized_words_no_deseado = []\n",
    "dataset = []\n",
    "clases_entrenamiento = []\n",
    "\n",
    "for filename in corpus_entrenamiento_legitimo.fileids():\n",
    "    denoise_email = denoise_text(corpus_entrenamiento_legitimo.raw(filename))\n",
    "    dataset.append(denoise_email)\n",
    "    clases_entrenamiento.append('legitimo')\n",
    "    tokenized_words_legitimo += nltk.word_tokenize(denoise_email)\n",
    "    \n",
    "tiempo_legitimo = time.time()\n",
    "print('Tiempo primer corpus: ' + str(tiempo_legitimo - inicio))\n",
    "    \n",
    "for filename in corpus_entrenamiento_no_deseado.fileids():\n",
    "    denoise_email = denoise_text(corpus_entrenamiento_no_deseado.raw(filename))\n",
    "    dataset.append(denoise_email)\n",
    "    clases_entrenamiento.append('spam')\n",
    "    tokenized_words_no_deseado += nltk.word_tokenize(denoise_email)\n",
    "    \n",
    "tiempo_no_deseados = time.time()\n",
    "print('Tiempo segundo corpus: ' + str(tiempo_no_deseados - tiempo_legitimo))   \n",
    "    \n",
    "final = time.time()\n",
    "print('Tiempo total: ' + str(final-inicio))"
   ]
  },
  {
   "cell_type": "code",
   "execution_count": 5,
   "id": "4db6cc35",
   "metadata": {},
   "outputs": [
    {
     "name": "stdout",
     "output_type": "stream",
     "text": [
      "Tiempo total: 37.953675746917725\n"
     ]
    }
   ],
   "source": [
    "# Se tokenizan los correos de validación para poder aplicar la normalización más adelante\n",
    "\n",
    "inicio_val = time.time()\n",
    "\n",
    "clases_prueba = []\n",
    "tokenized_words_validation = []\n",
    "\n",
    "for filename in corpus_prueba_legitimo.fileids():\n",
    "    email = corpus_prueba_legitimo.raw(filename)\n",
    "    clases_prueba.append('legitimo')\n",
    "    tokenized_words_validation.append(nltk.word_tokenize(email))\n",
    "    \n",
    "for filename in corpus_prueba_no_deseado.fileids():\n",
    "    email = corpus_prueba_no_deseado.raw(filename)\n",
    "    clases_prueba.append('spam')\n",
    "    tokenized_words_validation.append(nltk.word_tokenize(email))\n",
    "    \n",
    "final_val = time.time()\n",
    "print('Tiempo total: ' + str(final_val-inicio_val))"
   ]
  },
  {
   "cell_type": "code",
   "execution_count": 6,
   "id": "5a271833",
   "metadata": {},
   "outputs": [],
   "source": [
    "from sklearn import preprocessing\n",
    "codificador_clases = preprocessing.LabelEncoder()\n",
    "clases_codificadas = codificador_clases.fit_transform(clases_entrenamiento)\n",
    "clases_prueba_codificadas = codificador_clases.fit_transform(clases_prueba)"
   ]
  },
  {
   "cell_type": "markdown",
   "id": "67df258b",
   "metadata": {},
   "source": [
    "### Normalización"
   ]
  },
  {
   "cell_type": "code",
   "execution_count": 7,
   "id": "fd4d0c49",
   "metadata": {},
   "outputs": [],
   "source": [
    "def remove_non_ascii(words):\n",
    "    \"\"\"Remove non-ASCII characters from list of tokenized words\"\"\"\n",
    "    new_words = []\n",
    "    for word in words:\n",
    "        new_word = unicodedata.normalize('NFKD', word).encode('ascii', 'ignore').decode('utf-8', 'ignore')\n",
    "        new_words.append(new_word)\n",
    "    return new_words\n",
    "\n",
    "def to_lowercase(words):\n",
    "    \"\"\"Convert all characters to lowercase from list of tokenized words\"\"\"\n",
    "    new_words = []\n",
    "    for word in words:\n",
    "        new_word = word.lower()\n",
    "        new_words.append(new_word)\n",
    "    return new_words\n",
    "\n",
    "def remove_punctuation(words):\n",
    "    \"\"\"Remove punctuation from list of tokenized words\"\"\"\n",
    "    new_words = []\n",
    "    for word in words:\n",
    "        new_word = re.sub(r'[^\\w\\s]', '', word)\n",
    "        if new_word != '':\n",
    "            new_words.append(new_word)\n",
    "    return new_words\n",
    "\n",
    "def normalize(words):\n",
    "    words = remove_non_ascii(words)\n",
    "    words = to_lowercase(words)\n",
    "    words = remove_punctuation(words)\n",
    "\n",
    "    return words"
   ]
  },
  {
   "cell_type": "code",
   "execution_count": 8,
   "id": "e0da24ab",
   "metadata": {},
   "outputs": [
    {
     "name": "stdout",
     "output_type": "stream",
     "text": [
      "Tiempo de ejecución: 11.83104133605957\n"
     ]
    }
   ],
   "source": [
    "#Normalizamos las palabras que se elegirán para el vocabulario\n",
    "import re, string, unicodedata\n",
    "\n",
    "inicio_normalizacion = time.time()\n",
    "normalized_words_legitimo = normalize(tokenized_words_legitimo)\n",
    "normalized_words_no_deseado = normalize(tokenized_words_no_deseado)\n",
    "final_normalizacion = time.time()\n",
    "print('Tiempo de ejecución: ' + str(final_normalizacion-inicio_normalizacion))"
   ]
  },
  {
   "cell_type": "code",
   "execution_count": 9,
   "id": "6afd6c09",
   "metadata": {},
   "outputs": [],
   "source": [
    "# esta lista contiene string correspondientes a los emails tras aplicarles la normalización\n",
    "normalized_emails_validation = []\n",
    "\n",
    "for tokenized_email in tokenized_words_validation:\n",
    "    normalized_emails_validation.append(\" \".join(normalize(tokenized_email)))"
   ]
  },
  {
   "cell_type": "code",
   "execution_count": 10,
   "id": "d2015c98",
   "metadata": {},
   "outputs": [],
   "source": [
    "#Calculamos las 500 palabras más comunes de cada tipo de correo\n",
    "from nltk.probability import FreqDist\n",
    "\n",
    "fdist_legitimo = FreqDist(normalized_words_legitimo)\n",
    "most_common_legitimo = fdist_legitimo.most_common(500)\n",
    "\n",
    "fdist_legitimo = FreqDist(normalized_words_no_deseado)\n",
    "most_common_no_deseado = fdist_legitimo.most_common(500)"
   ]
  },
  {
   "cell_type": "code",
   "execution_count": 11,
   "id": "e1a1830d",
   "metadata": {},
   "outputs": [],
   "source": [
    "#Creación del vocabulario\n",
    "from nltk.lm import Vocabulary\n",
    "\n",
    "vocabularyTermsRepeated = [word[0] for word in most_common_no_deseado] + [word[0] for word in most_common_legitimo]\n",
    "vocabularyTerms = [word[0] for word in most_common_no_deseado] + [word[0] for word in most_common_legitimo]\n",
    "\n",
    "# eliminamos aquellas palabras que aparezcan tanto en los no deseados como en los legitimos, ya que no nos serviran para\n",
    "# diferenciar los correos\n",
    "for word in vocabularyTermsRepeated:\n",
    "    if vocabularyTerms.count(word) > 1:\n",
    "        vocabularyTerms.remove(word)\n",
    "        \n",
    "vocab = Vocabulary(vocabularyTerms)"
   ]
  },
  {
   "cell_type": "markdown",
   "id": "e6be28f5",
   "metadata": {},
   "source": [
    "### Bag of Words + Naive Bayes Multinomial"
   ]
  },
  {
   "cell_type": "code",
   "execution_count": 12,
   "id": "206698cd",
   "metadata": {},
   "outputs": [
    {
     "name": "stderr",
     "output_type": "stream",
     "text": [
      "C:\\ProgramData\\Anaconda3\\lib\\site-packages\\sklearn\\feature_extraction\\text.py:1322: UserWarning: Upper case characters found in vocabulary while 'lowercase' is True. These entries will not be matched with any documents\n",
      "  warnings.warn(\n"
     ]
    },
    {
     "name": "stdout",
     "output_type": "stream",
     "text": [
      "\n",
      "Count Vectorizer\n",
      "\n",
      "       2005  charset  0000  texthtml  microsoft  smtp  id  normal  \\\n",
      "0         0        1     0         0          0     0   1       0   \n",
      "10002     0        1     0         0          0     0   1       0   \n",
      "10003     0        1     0         0          0     0   1       0   \n",
      "10004     0        1     0         0          0     0   1       0   \n",
      "10005     0        1     0         0          0     0   1       0   \n",
      "...     ...      ...   ...       ...        ...   ...  ..     ...   \n",
      "9995      3        1     3         0          0     1   2       2   \n",
      "9996      2        1     1         0          0     1   0       0   \n",
      "9997      2        1     1         0          0     1   0       0   \n",
      "9998      2        1     1         0          0     1   0       0   \n",
      "9999      2        2     1         0          1     1   0       1   \n",
      "\n",
      "       quotedprintable  jun  ...  companies  america  operation  part  her  \\\n",
      "0                    0    0  ...          0        0          0     0    0   \n",
      "10002                0    0  ...          0        0          0     1    0   \n",
      "10003                0    0  ...          0        0          0     0    0   \n",
      "10004                0    0  ...          0        0          0     0    0   \n",
      "10005                0    0  ...          0        0          0     0    0   \n",
      "...                ...  ...  ...        ...      ...        ...   ...  ...   \n",
      "9995                 0    3  ...          0        0          0     0    1   \n",
      "9996                 0    0  ...          0        0          0     0    0   \n",
      "9997                 0    2  ...          0        0          0     1    0   \n",
      "9998                 0    0  ...          0        0          1     0    0   \n",
      "9999                 0    0  ...          0        0          0     1    1   \n",
      "\n",
      "       option  global  riceedu  note  <UNK>  \n",
      "0           0       0        0     0      0  \n",
      "10002       0       0        0     1      0  \n",
      "10003       0       0        0     0      0  \n",
      "10004       1       0        0     0      0  \n",
      "10005       0       0        0     1      0  \n",
      "...       ...     ...      ...   ...    ...  \n",
      "9995        0       0        0     0      0  \n",
      "9996        0       0        0     0      0  \n",
      "9997        0       0        0     0      0  \n",
      "9998        0       0        0     0      0  \n",
      "9999        0       0        0     0      0  \n",
      "\n",
      "[20322 rows x 754 columns]\n"
     ]
    },
    {
     "name": "stderr",
     "output_type": "stream",
     "text": [
      "C:\\ProgramData\\Anaconda3\\lib\\site-packages\\sklearn\\utils\\deprecation.py:87: FutureWarning: Function get_feature_names is deprecated; get_feature_names is deprecated in 1.0 and will be removed in 1.2. Please use get_feature_names_out instead.\n",
      "  warnings.warn(msg, category=FutureWarning)\n"
     ]
    }
   ],
   "source": [
    "#Entrenamiento del modelo Bag of Words\n",
    "from sklearn.feature_extraction.text import CountVectorizer\n",
    "import pandas as pd\n",
    "\n",
    "countvectorizer = CountVectorizer(vocabulary=vocab) #Creación del vectorizador con el vocabulario\n",
    "count_entrenamiento = countvectorizer.fit_transform(dataset)\n",
    "count_prueba = countvectorizer.transform(normalized_emails_validation)\n",
    "count_tokens = countvectorizer.get_feature_names()\n",
    "df_countvect = pd.DataFrame(data = count_entrenamiento.toarray(),index = corpus_entrenamiento_legitimo.fileids() + corpus_entrenamiento_no_deseado.fileids(),columns = count_tokens)\n",
    "print(\"\\nCount Vectorizer\\n\")\n",
    "print(df_countvect)"
   ]
  },
  {
   "cell_type": "code",
   "execution_count": 13,
   "id": "67ba49dc",
   "metadata": {},
   "outputs": [],
   "source": [
    "#Entrenamiento del modelo Naive-Bayes multinomial\n",
    "from sklearn import naive_bayes\n",
    "\n",
    "predicciones_NB = []\n",
    "\n",
    "for k in range(1,20):\n",
    "    multinomial_NB = naive_bayes.MultinomialNB(alpha=k)\n",
    "    multinomial_NB.fit(count_entrenamiento.toarray(), clases_codificadas)\n",
    "    prediccion_NB = multinomial_NB.predict(count_prueba.toarray())\n",
    "    prediccion_NB = codificador_clases.inverse_transform(prediccion_NB)\n",
    "    predicciones_NB.append(prediccion_NB)"
   ]
  },
  {
   "cell_type": "markdown",
   "id": "2e4c65be",
   "metadata": {},
   "source": [
    "### TF - IDF + kNN"
   ]
  },
  {
   "cell_type": "code",
   "execution_count": 14,
   "id": "1c36c752",
   "metadata": {
    "scrolled": false
   },
   "outputs": [
    {
     "name": "stderr",
     "output_type": "stream",
     "text": [
      "C:\\ProgramData\\Anaconda3\\lib\\site-packages\\sklearn\\feature_extraction\\text.py:1322: UserWarning: Upper case characters found in vocabulary while 'lowercase' is True. These entries will not be matched with any documents\n",
      "  warnings.warn(\n"
     ]
    },
    {
     "name": "stdout",
     "output_type": "stream",
     "text": [
      "\n",
      "TD-IDF Vectorizer\n",
      "\n",
      "           2005   charset      0000  texthtml  microsoft      smtp        id  \\\n",
      "0      0.000000  0.041569  0.000000       0.0   0.000000  0.000000  0.052257   \n",
      "10002  0.000000  0.009651  0.000000       0.0   0.000000  0.000000  0.012132   \n",
      "10003  0.000000  0.028315  0.000000       0.0   0.000000  0.000000  0.035595   \n",
      "10004  0.000000  0.014994  0.000000       0.0   0.000000  0.000000  0.018849   \n",
      "10005  0.000000  0.016339  0.000000       0.0   0.000000  0.000000  0.020540   \n",
      "...         ...       ...       ...       ...        ...       ...       ...   \n",
      "9995   0.208520  0.030900  0.217757       0.0   0.000000  0.068338  0.077689   \n",
      "9996   0.189477  0.042117  0.098935       0.0   0.000000  0.093145  0.000000   \n",
      "9997   0.095954  0.021329  0.050102       0.0   0.000000  0.047170  0.000000   \n",
      "9998   0.178736  0.039729  0.093327       0.0   0.000000  0.087865  0.000000   \n",
      "9999   0.117178  0.052093  0.061184       0.0   0.058584  0.057604  0.000000   \n",
      "\n",
      "         normal  quotedprintable       jun  ...  companies  america  \\\n",
      "0      0.000000              0.0  0.000000  ...        0.0      0.0   \n",
      "10002  0.000000              0.0  0.000000  ...        0.0      0.0   \n",
      "10003  0.000000              0.0  0.000000  ...        0.0      0.0   \n",
      "10004  0.000000              0.0  0.000000  ...        0.0      0.0   \n",
      "10005  0.000000              0.0  0.000000  ...        0.0      0.0   \n",
      "...         ...              ...       ...  ...        ...      ...   \n",
      "9995   0.139593              0.0  0.259704  ...        0.0      0.0   \n",
      "9996   0.000000              0.0  0.000000  ...        0.0      0.0   \n",
      "9997   0.000000              0.0  0.119507  ...        0.0      0.0   \n",
      "9998   0.000000              0.0  0.000000  ...        0.0      0.0   \n",
      "9999   0.058833              0.0  0.000000  ...        0.0      0.0   \n",
      "\n",
      "       operation      part       her    option  global  riceedu      note  \\\n",
      "0       0.000000  0.000000  0.000000  0.000000     0.0      0.0  0.000000   \n",
      "10002   0.000000  0.025899  0.000000  0.000000     0.0      0.0  0.037392   \n",
      "10003   0.000000  0.000000  0.000000  0.000000     0.0      0.0  0.000000   \n",
      "10004   0.000000  0.000000  0.000000  0.070781     0.0      0.0  0.000000   \n",
      "10005   0.000000  0.000000  0.000000  0.000000     0.0      0.0  0.063307   \n",
      "...          ...       ...       ...       ...     ...      ...       ...   \n",
      "9995    0.000000  0.000000  0.120328  0.000000     0.0      0.0  0.000000   \n",
      "9996    0.000000  0.000000  0.000000  0.000000     0.0      0.0  0.000000   \n",
      "9997    0.000000  0.057239  0.000000  0.000000     0.0      0.0  0.000000   \n",
      "9998    0.201303  0.000000  0.000000  0.000000     0.0      0.0  0.000000   \n",
      "9999    0.000000  0.069899  0.101428  0.000000     0.0      0.0  0.000000   \n",
      "\n",
      "       <UNK>  \n",
      "0        0.0  \n",
      "10002    0.0  \n",
      "10003    0.0  \n",
      "10004    0.0  \n",
      "10005    0.0  \n",
      "...      ...  \n",
      "9995     0.0  \n",
      "9996     0.0  \n",
      "9997     0.0  \n",
      "9998     0.0  \n",
      "9999     0.0  \n",
      "\n",
      "[20322 rows x 754 columns]\n"
     ]
    },
    {
     "name": "stderr",
     "output_type": "stream",
     "text": [
      "C:\\ProgramData\\Anaconda3\\lib\\site-packages\\sklearn\\utils\\deprecation.py:87: FutureWarning: Function get_feature_names is deprecated; get_feature_names is deprecated in 1.0 and will be removed in 1.2. Please use get_feature_names_out instead.\n",
      "  warnings.warn(msg, category=FutureWarning)\n"
     ]
    }
   ],
   "source": [
    "#Entrenamiento del modelo Tf-Idf\n",
    "from sklearn.feature_extraction.text import TfidfVectorizer\n",
    "\n",
    "tfidfvectorizer = TfidfVectorizer(vocabulary=vocab) #Creamos el vectorizador y le pasamos el vocabulario\n",
    "tfidf_entrenamiento = tfidfvectorizer.fit_transform(dataset)\n",
    "tfidf_prueba = tfidfvectorizer.transform(normalized_emails_validation)\n",
    "tfidf_tokens = tfidfvectorizer.get_feature_names()\n",
    "df_tfidfvect = pd.DataFrame(data = tfidf_entrenamiento.toarray(),index = corpus_entrenamiento_legitimo.fileids() + corpus_entrenamiento_no_deseado.fileids(),columns = tfidf_tokens)\n",
    "print(\"\\nTD-IDF Vectorizer\\n\")\n",
    "print(df_tfidfvect)"
   ]
  },
  {
   "cell_type": "code",
   "execution_count": 15,
   "id": "bc8c9f8e",
   "metadata": {},
   "outputs": [],
   "source": [
    "#Entrenamiento del modelo Knn\n",
    "from sklearn import neighbors\n",
    "\n",
    "predicciones_kNN = []\n",
    "\n",
    "for n_neighbors in range(1,20):\n",
    "    clasif_kNN = neighbors.KNeighborsClassifier(n_neighbors)\n",
    "    clasif_kNN.fit(tfidf_entrenamiento.toarray(), clases_codificadas)\n",
    "    prediccion_kNN = clasif_kNN.predict(tfidf_prueba.toarray())\n",
    "    prediccion_kNN = codificador_clases.inverse_transform(prediccion_kNN)\n",
    "    predicciones_kNN.append(prediccion_kNN)"
   ]
  },
  {
   "cell_type": "markdown",
   "id": "59886ae9",
   "metadata": {},
   "source": [
    "## Comparación algoritmos"
   ]
  },
  {
   "cell_type": "code",
   "execution_count": 16,
   "id": "4eef9db1",
   "metadata": {},
   "outputs": [],
   "source": [
    "def accuracy(tp, fp, fn, tn):\n",
    "    # porcentaje total de elementos clasificados correctamente\n",
    "    return (tp+tn)/(tp+fp+tn+fn)\n",
    "\n",
    "def recall(tp, fp, fn, tn):\n",
    "    # número de elementos identificados como positivos del total de verdaderos positivos\n",
    "    return (tp)/(tp+fn)\n",
    "\n",
    "def precision(tp, fp, fn, tn):\n",
    "    # número de elementos identificados correctamente como positivos del total de elementos identificados como positivos\n",
    "    return (tp)/(tp+fp)\n",
    "\n",
    "def especificidad(tp, fp, fn, tn):\n",
    "    # número de elementos correctamente identificados como negativos del total de negativos\n",
    "    return (tn)/(tn+fp)\n",
    "\n",
    "def f1_score(recall, precision):\n",
    "    return (2*recall*precision)/(recall+precision)"
   ]
  },
  {
   "cell_type": "code",
   "execution_count": 17,
   "id": "50e4f87c",
   "metadata": {},
   "outputs": [],
   "source": [
    "from sklearn.metrics import confusion_matrix\n",
    "\n",
    "def get_metrics(predicciones, objetivo_prueba):\n",
    "    accuracy_list = []\n",
    "    recall_list = []\n",
    "    precision_list = []\n",
    "    especificidad_list = []\n",
    "    \n",
    "    for prediccion in predicciones:\n",
    "        confusion_matrix_algorithm = confusion_matrix(objetivo_prueba, prediccion)\n",
    "        tp, fp, fn, tn = confusion_matrix_algorithm.ravel()\n",
    "        accuracy_algorithm = accuracy(tp, fp, fn, tn)\n",
    "        recall_algorithm = recall(tp, fp, fn, tn)\n",
    "        precision_algorithm = precision(tp, fp, fn, tn)\n",
    "        especificidad_algorithm = especificidad(tp, fp, fn, tn)\n",
    "        \n",
    "        accuracy_list.append(accuracy_algorithm)\n",
    "        recall_list.append(recall_algorithm)\n",
    "        precision_list.append(precision_algorithm)\n",
    "        especificidad_list.append(especificidad_algorithm)\n",
    "        \n",
    "    return (accuracy_list, recall_list, precision_list, especificidad_list)"
   ]
  },
  {
   "cell_type": "code",
   "execution_count": 19,
   "id": "b263b34f",
   "metadata": {},
   "outputs": [],
   "source": [
    "accuracy_NB_list, recall_NB_list, precision_NB_list, especificidad_NB_list = get_metrics(predicciones_NB, clases_prueba)\n",
    "\n",
    "accuracy_kNN_list, recall_kNN_list, precision_kNN_list, especificidad_kNN_list = get_metrics(predicciones_kNN, clases_prueba)"
   ]
  },
  {
   "cell_type": "code",
   "execution_count": 20,
   "id": "ee5f73f9",
   "metadata": {},
   "outputs": [],
   "source": [
    "hiperparametro = []\n",
    "h_string = []\n",
    "\n",
    "for n in range(1,20):\n",
    "    hiperparametro.append(n)\n",
    "    h_string.append(str(n))"
   ]
  },
  {
   "cell_type": "code",
   "execution_count": 21,
   "id": "bdd9dd5d",
   "metadata": {},
   "outputs": [],
   "source": [
    "import matplotlib.pyplot as plt"
   ]
  },
  {
   "cell_type": "code",
   "execution_count": 22,
   "id": "7c71da5c",
   "metadata": {},
   "outputs": [
    {
     "data": {
      "image/png": "[encoded data removed]",
      "text/plain": [
       "<Figure size 432x288 with 1 Axes>"
      ]
     },
     "metadata": {
      "needs_background": "light"
     },
     "output_type": "display_data"
    }
   ],
   "source": [
    "fig, ax = plt.subplots()\n",
    "ax.plot(hiperparametro[7:], accuracy_NB_list[7:], marker='o', label= 'NB')\n",
    "ax.plot(hiperparametro[7:], accuracy_kNN_list[7:], marker='o', label= 'kNN')\n",
    "\n",
    "ax.legend(loc = 'center right')\n",
    "ax.set_xlim([7, 20])\n",
    "\n",
    "plt.title(\"Accuracy\")\n",
    "plt.xticks(hiperparametro[7:], h_string[7:])\n",
    "\n",
    "plt.show()"
   ]
  },
  {
   "cell_type": "code",
   "execution_count": 23,
   "id": "df283d05",
   "metadata": {},
   "outputs": [
    {
     "data": {
      "image/png": "[encoded data removed]",
      "text/plain": [
       "<Figure size 432x288 with 1 Axes>"
      ]
     },
     "metadata": {
      "needs_background": "light"
     },
     "output_type": "display_data"
    }
   ],
   "source": [
    "fig, ax = plt.subplots()\n",
    "ax.plot(hiperparametro[7:], recall_NB_list[7:], marker='o', label= 'NB')\n",
    "ax.plot(hiperparametro[7:], recall_kNN_list[7:], marker='o', label= 'kNN')\n",
    "\n",
    "ax.legend(loc = 'center right')\n",
    "ax.set_xlim([7, 20])\n",
    "\n",
    "plt.title(\"Recall\")\n",
    "plt.xticks(hiperparametro[7:], h_string[7:])\n",
    "\n",
    "plt.show()"
   ]
  },
  {
   "cell_type": "code",
   "execution_count": 24,
   "id": "2f4a8236",
   "metadata": {},
   "outputs": [
    {
     "data": {
      "image/png": "[encoded data removed]",
      "text/plain": [
       "<Figure size 432x288 with 1 Axes>"
      ]
     },
     "metadata": {
      "needs_background": "light"
     },
     "output_type": "display_data"
    }
   ],
   "source": [
    "fig, ax = plt.subplots()\n",
    "ax.plot(hiperparametro[7:], precision_NB_list[7:], marker='o', label= 'NB')\n",
    "ax.plot(hiperparametro[7:], precision_kNN_list[7:], marker='o', label= 'kNN')\n",
    "\n",
    "ax.legend(loc = 'center right')\n",
    "ax.set_xlim([7, 20])\n",
    "\n",
    "plt.title(\"Precision\")\n",
    "plt.xticks(hiperparametro[7:], h_string[7:])\n",
    "\n",
    "plt.show()"
   ]
  },
  {
   "cell_type": "code",
   "execution_count": 25,
   "id": "29d6b323",
   "metadata": {},
   "outputs": [
    {
     "data": {
      "image/png": "[encoded data removed]",
      "text/plain": [
       "<Figure size 432x288 with 1 Axes>"
      ]
     },
     "metadata": {
      "needs_background": "light"
     },
     "output_type": "display_data"
    }
   ],
   "source": [
    "fig, ax = plt.subplots()\n",
    "ax.plot(hiperparametro, especificidad_NB_list, marker='o', label= 'NB')\n",
    "ax.plot(hiperparametro, especificidad_kNN_list, marker='o', label= 'kNN')\n",
    "\n",
    "ax.legend(loc = 'center right')\n",
    "ax.set_xlim([0, 20])\n",
    "\n",
    "plt.title(\"Especificidad\")\n",
    "plt.xticks(hiperparametro, h_string)\n",
    "\n",
    "plt.show()"
   ]
  },
  {
   "cell_type": "code",
   "execution_count": null,
   "id": "5bb47fbe",
   "metadata": {},
   "outputs": [],
   "source": []
  }
 ],
 "metadata": {
  "kernelspec": {
   "display_name": "Python 3 (ipykernel)",
   "language": "python",
   "name": "python3"
  },
  "language_info": {
   "codemirror_mode": {
    "name": "ipython",
    "version": 3
   },
   "file_extension": ".py",
   "mimetype": "text/x-python",
   "name": "python",
   "nbconvert_exporter": "python",
   "pygments_lexer": "ipython3",
   "version": "3.9.7"
  }
 },
 "nbformat": 4,
 "nbformat_minor": 5
}
